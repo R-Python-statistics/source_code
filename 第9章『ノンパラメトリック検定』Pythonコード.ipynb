{
 "cells": [
  {
   "cell_type": "markdown",
   "metadata": {},
   "source": [
    "# 第9章『ノンパラメトリック検定』"
   ]
  },
  {
   "cell_type": "markdown",
   "metadata": {},
   "source": [
    "## p.161"
   ]
  },
  {
   "cell_type": "code",
   "execution_count": 1,
   "metadata": {
    "ExecuteTime": {
     "end_time": "2019-04-14T17:25:55.511060Z",
     "start_time": "2019-04-14T17:25:55.194449Z"
    }
   },
   "outputs": [
    {
     "data": {
      "text/plain": [
       "MannwhitneyuResult(statistic=27.0, pvalue=0.08209870865427452)"
      ]
     },
     "execution_count": 1,
     "metadata": {},
     "output_type": "execute_result"
    }
   ],
   "source": [
    "import numpy as np\n",
    "from scipy import stats\n",
    "\n",
    "# https://qiita.com/s-wakaba/items/0e4f726e1e9bb5331fb5\n",
    "# https://docs.scipy.org/doc/scipy/reference/generated/scipy.stats.mannwhitneyu.html\n",
    "\n",
    "data1 = np.array([59, 91, 64, 53, 75, 69, 36, 43, 54, 99])\n",
    "data2 = np.array([67, 93, 72, 55, 109, 86, 50, 80, 95, 103])\n",
    "\n",
    "# Rのcorrect=T/F、Pythonのuse_continuity=True/False\n",
    "stats.mannwhitneyu(data1, data2, use_continuity=False, alternative='two-sided')"
   ]
  },
  {
   "cell_type": "markdown",
   "metadata": {},
   "source": [
    "## p.166"
   ]
  },
  {
   "cell_type": "code",
   "execution_count": 2,
   "metadata": {
    "ExecuteTime": {
     "end_time": "2019-04-14T17:26:08.245129Z",
     "start_time": "2019-04-14T17:26:08.237597Z"
    }
   },
   "outputs": [
    {
     "data": {
      "text/plain": [
       "(2.1503780770194516, 0.031525321010661904)"
      ]
     },
     "execution_count": 2,
     "metadata": {},
     "output_type": "execute_result"
    }
   ],
   "source": [
    "import numpy as np\n",
    "from scipy import stats\n",
    "\n",
    "# https://docs.scipy.org/doc/scipy/reference/generated/scipy.stats.mood.html\n",
    "\n",
    "data1 = np.array([45, 60, 68, 47, 66, 40, 41, 55, 30, 58, 51, 31])\n",
    "data2 = np.array([50, 56, 48 ,57, 53, 54, 61, 42, 46, 39, 49, 52])\n",
    "stats.mood(data1, data2) # returnは z値, p値 の順"
   ]
  }
 ],
 "metadata": {
  "hide_input": false,
  "kernelspec": {
   "display_name": "Python 3",
   "language": "python",
   "name": "python3"
  },
  "language_info": {
   "codemirror_mode": {
    "name": "ipython",
    "version": 3
   },
   "file_extension": ".py",
   "mimetype": "text/x-python",
   "name": "python",
   "nbconvert_exporter": "python",
   "pygments_lexer": "ipython3",
   "version": "3.7.6"
  },
  "toc": {
   "base_numbering": 1,
   "nav_menu": {},
   "number_sections": false,
   "sideBar": true,
   "skip_h1_title": false,
   "title_cell": "Table of Contents",
   "title_sidebar": "Contents",
   "toc_cell": true,
   "toc_position": {},
   "toc_section_display": true,
   "toc_window_display": true
  }
 },
 "nbformat": 4,
 "nbformat_minor": 2
}
