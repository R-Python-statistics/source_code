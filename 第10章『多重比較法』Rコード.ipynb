{
 "cells": [
  {
   "cell_type": "markdown",
   "metadata": {},
   "source": [
    "# 第10章『多重比較法』"
   ]
  },
  {
   "cell_type": "markdown",
   "metadata": {},
   "source": [
    "## p.180"
   ]
  },
  {
   "cell_type": "code",
   "execution_count": 1,
   "metadata": {
    "ExecuteTime": {
     "end_time": "2019-04-08T09:51:22.751201Z",
     "start_time": "2019-04-08T09:51:21.780Z"
    }
   },
   "outputs": [
    {
     "name": "stderr",
     "output_type": "stream",
     "text": [
      "Loading required package: mvtnorm\n",
      "\n",
      "Loading required package: survival\n",
      "\n",
      "Loading required package: TH.data\n",
      "\n",
      "Loading required package: MASS\n",
      "\n",
      "\n",
      "Attaching package: ‘TH.data’\n",
      "\n",
      "\n",
      "The following object is masked from ‘package:MASS’:\n",
      "\n",
      "    geyser\n",
      "\n",
      "\n"
     ]
    },
    {
     "data": {
      "text/plain": [
       "\n",
       "\t Simultaneous Tests for General Linear Hypotheses\n",
       "\n",
       "Multiple Comparisons of Means: Dunnett Contrasts\n",
       "\n",
       "\n",
       "Fit: aov(formula = X2 ~ X1, data = dat)\n",
       "\n",
       "Linear Hypotheses:\n",
       "           Estimate Std. Error t value  Pr(<t)   \n",
       "2 - 1 >= 0   -5.800      3.909  -1.484 0.13367   \n",
       "3 - 1 >= 0  -11.400      3.909  -2.916 0.00984 **\n",
       "---\n",
       "Signif. codes:  0 ‘***’ 0.001 ‘**’ 0.01 ‘*’ 0.05 ‘.’ 0.1 ‘ ’ 1\n",
       "(Adjusted p values reported -- single-step method)\n"
      ]
     },
     "metadata": {},
     "output_type": "display_data"
    },
    {
     "data": {
      "text/plain": [
       "\n",
       "\t Simultaneous Tests for General Linear Hypotheses\n",
       "\n",
       "Multiple Comparisons of Means: Tukey Contrasts\n",
       "\n",
       "\n",
       "Fit: aov(formula = X2 ~ X1, data = dat)\n",
       "\n",
       "Linear Hypotheses:\n",
       "           Estimate Std. Error t value Pr(>|t|)  \n",
       "2 - 1 == 0   -5.800      3.909  -1.484   0.3264  \n",
       "3 - 1 == 0  -11.400      3.909  -2.916   0.0272 *\n",
       "3 - 2 == 0   -5.600      3.909  -1.432   0.3500  \n",
       "---\n",
       "Signif. codes:  0 ‘***’ 0.001 ‘**’ 0.01 ‘*’ 0.05 ‘.’ 0.1 ‘ ’ 1\n",
       "(Adjusted p values reported -- single-step method)\n"
      ]
     },
     "metadata": {},
     "output_type": "display_data"
    }
   ],
   "source": [
    "# R でのコマンド次のコマンドを使うことで多重比較の結果を得る \n",
    "\n",
    "# install.packages(\"multcomp\", dependencies=T)\n",
    "library(multcomp) \n",
    "x1<-c(1,1,1,1,1,1,2,2,2,2,2,2,3,3,3,3,3,3) \n",
    "x2<-c(35.69,43.04,27.99,41.70,43.83,30.95,26.65,25.33,39.62,29.59,23.29,43.92, 22.72,20.23,24.89,33.51,28.72,24.73) \n",
    "dat<-data.frame(X1=factor(x1),X2=x2) \n",
    "resA<-aov(X2~X1,data=dat)  \n",
    "\n",
    "#Dunnettの結果,片側検定, \n",
    "summary(glht(resA,linfct=mcp(X1=\"Dunnett\"),alternative=\"less\")) \n",
    "\n",
    "#Tukeyの結果,両側検定\n",
    "summary(glht(resA,linfct=mcp(X1=\"Tukey\")))  "
   ]
  },
  {
   "cell_type": "markdown",
   "metadata": {},
   "source": [
    "## p.187~191"
   ]
  },
  {
   "cell_type": "code",
   "execution_count": 2,
   "metadata": {
    "ExecuteTime": {
     "end_time": "2019-04-08T09:51:54.202712Z",
     "start_time": "2019-04-08T09:51:54.156Z"
    }
   },
   "outputs": [
    {
     "data": {
      "text/html": [
       "<table>\n",
       "<thead><tr><th scope=col>fit</th><th scope=col>lwr</th><th scope=col>upr</th></tr></thead>\n",
       "<tbody>\n",
       "\t<tr><td>1.8696  </td><td>1.747537</td><td>1.991663</td></tr>\n",
       "</tbody>\n",
       "</table>\n"
      ],
      "text/latex": [
       "\\begin{tabular}{r|lll}\n",
       " fit & lwr & upr\\\\\n",
       "\\hline\n",
       "\t 1.8696   & 1.747537 & 1.991663\\\\\n",
       "\\end{tabular}\n"
      ],
      "text/markdown": [
       "\n",
       "| fit | lwr | upr |\n",
       "|---|---|---|\n",
       "| 1.8696   | 1.747537 | 1.991663 |\n",
       "\n"
      ],
      "text/plain": [
       "  fit    lwr      upr     \n",
       "1 1.8696 1.747537 1.991663"
      ]
     },
     "metadata": {},
     "output_type": "display_data"
    }
   ],
   "source": [
    "time <- c(2, 4, 6, 8, 10)\n",
    "y <- c(1.922, 1.443, 1.065, 0.703, 0.369)\n",
    "data <- data.frame(cbind(y, time))\n",
    "result <- lm(y~time, data=data)\n",
    "predict(result, data.frame(time=2), interval=\"confidence\", leevel=0.95)"
   ]
  }
 ],
 "metadata": {
  "hide_input": false,
  "kernelspec": {
   "display_name": "R",
   "language": "R",
   "name": "ir"
  },
  "language_info": {
   "codemirror_mode": "r",
   "file_extension": ".r",
   "mimetype": "text/x-r-source",
   "name": "R",
   "pygments_lexer": "r",
   "version": "3.6.1"
  },
  "toc": {
   "base_numbering": 1,
   "nav_menu": {},
   "number_sections": false,
   "sideBar": true,
   "skip_h1_title": false,
   "title_cell": "Table of Contents",
   "title_sidebar": "Contents",
   "toc_cell": true,
   "toc_position": {},
   "toc_section_display": true,
   "toc_window_display": true
  }
 },
 "nbformat": 4,
 "nbformat_minor": 2
}
